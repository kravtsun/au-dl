{
 "cells": [
  {
   "cell_type": "code",
   "execution_count": 1,
   "metadata": {
    "collapsed": true
   },
   "outputs": [],
   "source": [
    "import tensorflow as tf\n",
    "import numpy as np\n",
    "import math"
   ]
  },
  {
   "cell_type": "markdown",
   "metadata": {},
   "source": [
    "Hint: Use dtype=tf.float64 if you want to have same precision as numpy for testing<br>\n",
    "Hint: You migth wanna use tf.InterativeSession for convenience"
   ]
  },
  {
   "cell_type": "markdown",
   "metadata": {},
   "source": [
    "1a: Create two random 0-d tensors x and y of any distribution. <br>\n",
    "Create a TensorFlow object that returns x + y if x > y, and x - y otherwise. <br>\n",
    "Hint: look up tf.cond() <br>\n",
    "I do the first problem for you <br>"
   ]
  },
  {
   "cell_type": "code",
   "execution_count": 2,
   "metadata": {
    "collapsed": true
   },
   "outputs": [],
   "source": [
    "def task_1a_np(x, y):\n",
    "    return np.where(x > y, x + y, x - y)"
   ]
  },
  {
   "cell_type": "code",
   "execution_count": 3,
   "metadata": {
    "collapsed": true
   },
   "outputs": [],
   "source": [
    "X = tf.placeholder(tf.float64)\n",
    "Y = tf.placeholder(tf.float64)\n",
    "out = tf.cond(tf.greater(X, Y), lambda: tf.add(X, Y), lambda: tf.subtract(X, Y))"
   ]
  },
  {
   "cell_type": "code",
   "execution_count": 4,
   "metadata": {},
   "outputs": [
    {
     "name": "stdout",
     "output_type": "stream",
     "text": [
      "Success\n"
     ]
    }
   ],
   "source": [
    "with tf.Session() as sess:\n",
    "    for xx, yy in np.random.uniform(size=(50, 2)):\n",
    "        actual = sess.run(out, feed_dict={X:xx, Y:yy})\n",
    "        expected = task_1a_np(xx, yy)\n",
    "        if actual != expected:\n",
    "            print('Fail')\n",
    "            # something something\n",
    "    else:\n",
    "        print('Success')"
   ]
  },
  {
   "cell_type": "markdown",
   "metadata": {},
   "source": [
    "1b: Create two 0-d tensors x and y randomly selected from the range [-1, 1).<br>\n",
    "Return x + y if x < y, x - y if x > y, 0 otherwise.<br>\n",
    "Hint: Look up tf.case().<br>"
   ]
  },
  {
   "cell_type": "code",
   "execution_count": 5,
   "metadata": {
    "collapsed": true
   },
   "outputs": [],
   "source": [
    "def task_1b_np(x, y):\n",
    "    return np.select(condlist=[x < y, x > y],\n",
    "                     choicelist=[x + y, x - y],\n",
    "                     default=0)"
   ]
  },
  {
   "cell_type": "code",
   "execution_count": 6,
   "metadata": {},
   "outputs": [
    {
     "name": "stdout",
     "output_type": "stream",
     "text": [
      "Success\n"
     ]
    }
   ],
   "source": [
    "X = tf.placeholder(tf.float64)\n",
    "Y = tf.placeholder(tf.float64)\n",
    "f1 = lambda: tf.add(X, Y)\n",
    "f2 = lambda: tf.subtract(X, Y)\n",
    "default = lambda: tf.constant(0.0, dtype=tf.float64)\n",
    "out = tf.case({tf.less(X, Y): f1, tf.greater(X, Y): f2}, default=default, exclusive=True)\n",
    "with tf.Session() as sess:\n",
    "    for xx, yy in np.random.uniform(size=(50, 2), low=-1.0, high=1.0):\n",
    "        actual = sess.run(out, feed_dict={X:xx, Y:yy})\n",
    "        expected = task_1b_np(xx, yy)\n",
    "        if actual != expected:\n",
    "            print('Fail')\n",
    "            # something something\n",
    "    else:\n",
    "        print('Success')"
   ]
  },
  {
   "cell_type": "markdown",
   "metadata": {},
   "source": [
    "1c: Create the tensor x of the value [[0, -2, -1], [0, 1, 2]] <br>\n",
    "and y as a tensor of zeros with the same shape as x. <br>\n",
    "Return a boolean tensor that yields Trues if x equals y element-wise. <br>\n",
    "Hint: Look up tf.equal(). <br>"
   ]
  },
  {
   "cell_type": "code",
   "execution_count": 7,
   "metadata": {
    "collapsed": true
   },
   "outputs": [],
   "source": [
    "def task_1c_np():\n",
    "    x = np.array([[0, -2, -1], [0, 1, 2]])\n",
    "    y = np.zeros_like(x)\n",
    "    return x == y"
   ]
  },
  {
   "cell_type": "code",
   "execution_count": 8,
   "metadata": {},
   "outputs": [
    {
     "name": "stdout",
     "output_type": "stream",
     "text": [
      "Success\n"
     ]
    }
   ],
   "source": [
    "X = tf.constant([[0, -2, -1], [0, 1, 2]])\n",
    "Y = tf.zeros_like(X)\n",
    "Z = tf.equal(X, Y)\n",
    "expected = task_1c_np()\n",
    "with tf.Session() as sess:\n",
    "    actual = sess.run(Z)\n",
    "    if (actual != expected).any():\n",
    "        print('Fail')\n",
    "    else:\n",
    "        print('Success')"
   ]
  },
  {
   "cell_type": "markdown",
   "metadata": {},
   "source": [
    "1d:<br>\n",
    "Get the indices of elements in x whose values are greater than 30.<br>\n",
    "Hint: Use tf.where().<br>\n",
    "Then extract elements whose values are greater than 30.<br>\n",
    "Hint: Use tf.gather().<br>"
   ]
  },
  {
   "cell_type": "code",
   "execution_count": 9,
   "metadata": {
    "collapsed": true
   },
   "outputs": [],
   "source": [
    "def task_1d_np(x):\n",
    "    return x[x > 30].reshape(-1, 1)"
   ]
  },
  {
   "cell_type": "code",
   "execution_count": 10,
   "metadata": {},
   "outputs": [
    {
     "name": "stdout",
     "output_type": "stream",
     "text": [
      "Success\n"
     ]
    }
   ],
   "source": [
    "def task_1d_tf(X):\n",
    "    thirty = tf.constant(30.0, dtype=tf.float64)\n",
    "    indexes = tf.where(tf.greater(X, thirty))\n",
    "    gathered = tf.gather_nd(X, indexes)\n",
    "    return gathered\n",
    "x = np.random.uniform(size=(50, 50), low=0.0, high=60.0)\n",
    "X = tf.constant(x)\n",
    "expected = task_1d_np(x)\n",
    "out = task_1d_tf(X)\n",
    "with tf.Session() as sess:\n",
    "    actual = sess.run(out).reshape(-1, 1)\n",
    "    assert actual.shape == expected.shape\n",
    "    if (actual != expected).any():\n",
    "        print('Fail')\n",
    "    else:\n",
    "        print('Success')\n",
    "            "
   ]
  },
  {
   "cell_type": "markdown",
   "metadata": {},
   "source": [
    "1e: Create a diagonal 2-d tensor of size 6 x 6 with the diagonal values of 1,<br>\n",
    "2, ..., 6<br>\n",
    "Hint: Use tf.range() and tf.diag().<br>"
   ]
  },
  {
   "cell_type": "code",
   "execution_count": 11,
   "metadata": {
    "collapsed": true
   },
   "outputs": [],
   "source": [
    "def task_1e_np():\n",
    "    return np.diag(np.arange(1, 7))"
   ]
  },
  {
   "cell_type": "code",
   "execution_count": 12,
   "metadata": {},
   "outputs": [
    {
     "name": "stdout",
     "output_type": "stream",
     "text": [
      "Success\n"
     ]
    }
   ],
   "source": [
    "def task_1e_tf():\n",
    "    X = tf.diag(tf.range(1, 7))\n",
    "    return X\n",
    "expected = task_1e_np()\n",
    "out = task_1e_tf()\n",
    "with tf.Session() as sess:\n",
    "    actual = sess.run(out)\n",
    "    assert(actual.shape == expected.shape)\n",
    "    if (actual != expected).any():\n",
    "        print('Fail')\n",
    "    else:\n",
    "        print('Success')\n",
    "    "
   ]
  },
  {
   "cell_type": "markdown",
   "metadata": {},
   "source": [
    "1f: Create a random 2-d tensor of size 10 x 10 from any distribution.<br>\n",
    "Calculate its determinant.<br>\n",
    "Hint: Look at tf.matrix_determinant().<br>"
   ]
  },
  {
   "cell_type": "code",
   "execution_count": 13,
   "metadata": {
    "collapsed": true
   },
   "outputs": [],
   "source": [
    "def task_1f_np(x):\n",
    "    return np.linalg.det(x)"
   ]
  },
  {
   "cell_type": "code",
   "execution_count": 14,
   "metadata": {},
   "outputs": [
    {
     "name": "stdout",
     "output_type": "stream",
     "text": [
      "Success\n"
     ]
    }
   ],
   "source": [
    "def task_1f_tf(X):\n",
    "    return tf.matrix_determinant(X)\n",
    "xrandom = tf.random_uniform((10, 10), dtype=tf.float64)\n",
    "X = tf.placeholder(tf.float64, (10, 10), name=\"x\")\n",
    "out = task_1f_tf(X)\n",
    "with tf.Session() as sess:\n",
    "    x = xrandom.eval()\n",
    "    actual = sess.run(out, feed_dict={X:x})\n",
    "    expected = task_1f_np(x)\n",
    "    eps = 1e-5\n",
    "    if np.abs(actual - expected) > eps:\n",
    "        print('Fail')\n",
    "    else:\n",
    "        print('Success')"
   ]
  },
  {
   "cell_type": "markdown",
   "metadata": {},
   "source": [
    "1g: Create tensor x with value [5, 2, 3, 5, 10, 6, 2, 3, 4, 2, 1, 1, 0, 9].<br>\n",
    "Return the unique elements in x<br>\n",
    "Hint: use tf.unique(). Keep in mind that tf.unique() returns a tuple.<br>"
   ]
  },
  {
   "cell_type": "code",
   "execution_count": 15,
   "metadata": {
    "collapsed": true
   },
   "outputs": [],
   "source": [
    "def task_1g_np():\n",
    "    x = [5, 2, 3, 5, 10, 6, 2, 3, 4, 2, 1, 1, 0, 9]\n",
    "    _, idx = np.unique(x, return_index=True)\n",
    "    return np.take(x, sorted(idx))"
   ]
  },
  {
   "cell_type": "code",
   "execution_count": 16,
   "metadata": {},
   "outputs": [
    {
     "name": "stdout",
     "output_type": "stream",
     "text": [
      "Success\n"
     ]
    }
   ],
   "source": [
    "def task_1g_tf():\n",
    "    X = tf.constant([5, 2, 3, 5, 10, 6, 2, 3, 4, 2, 1, 1, 0, 9])\n",
    "    y, idx = tf.unique(X)\n",
    "    return y\n",
    "expected = task_1g_np()\n",
    "out = task_1g_tf()\n",
    "with tf.Session() as sess:\n",
    "    actual = sess.run(out)\n",
    "    if (actual != expected).any():\n",
    "        print('Fail')\n",
    "    else:\n",
    "        print('Success')"
   ]
  },
  {
   "cell_type": "markdown",
   "metadata": {},
   "source": [
    "1h: Create two tensors x and y of shape 300 from any normal distribution,<br>\n",
    "as long as they are from the same distribution.<br>\n",
    "Use tf.cond() to return:<br>\n",
    "- The mean squared error of (x - y) if the average of all elements in (x - y)<br>\n",
    "  is negative, or<br>\n",
    "- The sum of absolute value of all elements in the tensor (x - y) otherwise.<br>\n",
    "Hint: see the Huber loss function in the lecture slides 3.<br>"
   ]
  },
  {
   "cell_type": "code",
   "execution_count": 17,
   "metadata": {
    "collapsed": true
   },
   "outputs": [],
   "source": [
    "def task_1h_np(x, y):\n",
    "    average = np.mean(x - y)\n",
    "    mse = np.mean((x - y) ** 2)\n",
    "    asum = np.sum(np.abs(x - y))\n",
    "    return mse if average < 0 else asum"
   ]
  },
  {
   "cell_type": "code",
   "execution_count": 18,
   "metadata": {},
   "outputs": [
    {
     "name": "stdout",
     "output_type": "stream",
     "text": [
      "Success\n",
      "Success\n",
      "Success\n",
      "Success\n",
      "Success\n"
     ]
    }
   ],
   "source": [
    "def task_1h_tf(X, Y):\n",
    "    diff = tf.subtract(X, Y)\n",
    "    abs_diff = tf.abs(diff)\n",
    "    two = tf.constant(2.0, dtype=tf.float64)\n",
    "    abs_diff_squared = tf.pow(abs_diff, two)\n",
    "    \n",
    "    # Why tf.metrics.mean is so bad -> tf.float32?\n",
    "    _, average = tf.metrics.mean(diff)\n",
    "    average = tf.cast(average, tf.float64)\n",
    "    \n",
    "    _, mse = tf.metrics.mean(abs_diff_squared)\n",
    "    mse = tf.cast(mse, tf.float64)\n",
    "    \n",
    "    asum = tf.reduce_sum(abs_diff)\n",
    "    zero = tf.constant(0.0, dtype=tf.float64)\n",
    "    return tf.cond(tf.less(average, zero), lambda: mse, lambda: asum)\n",
    "\n",
    "shape = (300,)\n",
    "eps = 1e-5\n",
    "for _ in range(5):\n",
    "    xrandom = tf.random_normal(shape, dtype=tf.float64)\n",
    "    X = tf.placeholder(tf.float64, shape, name='x')\n",
    "    yrandom = tf.random_normal(shape, dtype=tf.float64)\n",
    "    Y = tf.placeholder(tf.float64, shape, name='y')\n",
    "    out = task_1h_tf(X, Y)\n",
    "    with tf.Session() as sess:\n",
    "        sess.run(tf.local_variables_initializer())\n",
    "        x = xrandom.eval()\n",
    "        y = yrandom.eval()\n",
    "        expected = task_1h_np(x, y)\n",
    "        actual = sess.run(out, feed_dict={X: x, Y: y})\n",
    "        if abs(expected - actual) > eps:\n",
    "            print('Fail')\n",
    "        else:\n",
    "            print('Success')\n",
    "    "
   ]
  }
 ],
 "metadata": {
  "kernelspec": {
   "display_name": "Python 3",
   "language": "python",
   "name": "python3"
  },
  "language_info": {
   "codemirror_mode": {
    "name": "ipython",
    "version": 3
   },
   "file_extension": ".py",
   "mimetype": "text/x-python",
   "name": "python",
   "nbconvert_exporter": "python",
   "pygments_lexer": "ipython3",
   "version": "3.5.2"
  }
 },
 "nbformat": 4,
 "nbformat_minor": 2
}
